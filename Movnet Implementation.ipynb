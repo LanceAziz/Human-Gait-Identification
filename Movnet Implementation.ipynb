{
 "cells": [
  {
   "cell_type": "markdown",
   "metadata": {
    "jp-MarkdownHeadingCollapsed": true
   },
   "source": [
    "# Install Dependencies"
   ]
  },
  {
   "cell_type": "code",
   "execution_count": 2,
   "metadata": {},
   "outputs": [
    {
     "name": "stdout",
     "output_type": "stream",
     "text": [
      "Requirement already satisfied: tensorflow==2.10 in c:\\users\\lance\\appdata\\local\\programs\\python\\python310\\lib\\site-packages (2.10.0)\n",
      "Requirement already satisfied: typing-extensions>=3.6.6 in c:\\users\\lance\\appdata\\local\\programs\\python\\python310\\lib\\site-packages (from tensorflow==2.10) (4.9.0)\n",
      "Requirement already satisfied: gast<=0.4.0,>=0.2.1 in c:\\users\\lance\\appdata\\local\\programs\\python\\python310\\lib\\site-packages (from tensorflow==2.10) (0.4.0)\n",
      "Requirement already satisfied: tensorflow-io-gcs-filesystem>=0.23.1 in c:\\users\\lance\\appdata\\local\\programs\\python\\python310\\lib\\site-packages (from tensorflow==2.10) (0.31.0)\n",
      "Requirement already satisfied: termcolor>=1.1.0 in c:\\users\\lance\\appdata\\local\\programs\\python\\python310\\lib\\site-packages (from tensorflow==2.10) (2.4.0)\n",
      "Requirement already satisfied: six>=1.12.0 in c:\\users\\lance\\appdata\\local\\programs\\python\\python310\\lib\\site-packages (from tensorflow==2.10) (1.16.0)\n",
      "Requirement already satisfied: absl-py>=1.0.0 in c:\\users\\lance\\appdata\\local\\programs\\python\\python310\\lib\\site-packages (from tensorflow==2.10) (2.1.0)\n",
      "Requirement already satisfied: numpy>=1.20 in c:\\users\\lance\\appdata\\local\\programs\\python\\python310\\lib\\site-packages (from tensorflow==2.10) (1.26.3)\n",
      "Requirement already satisfied: opt-einsum>=2.3.2 in c:\\users\\lance\\appdata\\local\\programs\\python\\python310\\lib\\site-packages (from tensorflow==2.10) (3.3.0)\n",
      "Requirement already satisfied: protobuf<3.20,>=3.9.2 in c:\\users\\lance\\appdata\\local\\programs\\python\\python310\\lib\\site-packages (from tensorflow==2.10) (3.19.6)\n",
      "Requirement already satisfied: libclang>=13.0.0 in c:\\users\\lance\\appdata\\local\\programs\\python\\python310\\lib\\site-packages (from tensorflow==2.10) (16.0.6)\n",
      "Requirement already satisfied: keras<2.11,>=2.10.0 in c:\\users\\lance\\appdata\\local\\programs\\python\\python310\\lib\\site-packages (from tensorflow==2.10) (2.10.0)\n",
      "Requirement already satisfied: astunparse>=1.6.0 in c:\\users\\lance\\appdata\\local\\programs\\python\\python310\\lib\\site-packages (from tensorflow==2.10) (1.6.3)\n",
      "Requirement already satisfied: h5py>=2.9.0 in c:\\users\\lance\\appdata\\local\\programs\\python\\python310\\lib\\site-packages (from tensorflow==2.10) (3.10.0)\n",
      "Requirement already satisfied: google-pasta>=0.1.1 in c:\\users\\lance\\appdata\\local\\programs\\python\\python310\\lib\\site-packages (from tensorflow==2.10) (0.2.0)\n",
      "Requirement already satisfied: keras-preprocessing>=1.1.1 in c:\\users\\lance\\appdata\\local\\programs\\python\\python310\\lib\\site-packages (from tensorflow==2.10) (1.1.2)\n",
      "Requirement already satisfied: setuptools in c:\\users\\lance\\appdata\\local\\programs\\python\\python310\\lib\\site-packages (from tensorflow==2.10) (57.4.0)\n",
      "Requirement already satisfied: wrapt>=1.11.0 in c:\\users\\lance\\appdata\\local\\programs\\python\\python310\\lib\\site-packages (from tensorflow==2.10) (1.16.0)\n",
      "Requirement already satisfied: tensorflow-estimator<2.11,>=2.10.0 in c:\\users\\lance\\appdata\\local\\programs\\python\\python310\\lib\\site-packages (from tensorflow==2.10) (2.10.0)\n",
      "Requirement already satisfied: grpcio<2.0,>=1.24.3 in c:\\users\\lance\\appdata\\local\\programs\\python\\python310\\lib\\site-packages (from tensorflow==2.10) (1.60.1)\n",
      "Requirement already satisfied: tensorboard<2.11,>=2.10 in c:\\users\\lance\\appdata\\local\\programs\\python\\python310\\lib\\site-packages (from tensorflow==2.10) (2.10.1)\n",
      "Requirement already satisfied: packaging in c:\\users\\lance\\appdata\\local\\programs\\python\\python310\\lib\\site-packages (from tensorflow==2.10) (23.2)\n",
      "Requirement already satisfied: flatbuffers>=2.0 in c:\\users\\lance\\appdata\\local\\programs\\python\\python310\\lib\\site-packages (from tensorflow==2.10) (23.5.26)\n",
      "Requirement already satisfied: wheel<1.0,>=0.23.0 in c:\\users\\lance\\appdata\\local\\programs\\python\\python310\\lib\\site-packages (from astunparse>=1.6.0->tensorflow==2.10) (0.42.0)\n",
      "Requirement already satisfied: tensorboard-plugin-wit>=1.6.0 in c:\\users\\lance\\appdata\\local\\programs\\python\\python310\\lib\\site-packages (from tensorboard<2.11,>=2.10->tensorflow==2.10) (1.8.1)\n",
      "Requirement already satisfied: werkzeug>=1.0.1 in c:\\users\\lance\\appdata\\local\\programs\\python\\python310\\lib\\site-packages (from tensorboard<2.11,>=2.10->tensorflow==2.10) (3.0.1)\n",
      "Requirement already satisfied: google-auth<3,>=1.6.3 in c:\\users\\lance\\appdata\\local\\programs\\python\\python310\\lib\\site-packages (from tensorboard<2.11,>=2.10->tensorflow==2.10) (2.27.0)\n",
      "Requirement already satisfied: google-auth-oauthlib<0.5,>=0.4.1 in c:\\users\\lance\\appdata\\local\\programs\\python\\python310\\lib\\site-packages (from tensorboard<2.11,>=2.10->tensorflow==2.10) (0.4.6)\n",
      "Requirement already satisfied: requests<3,>=2.21.0 in c:\\users\\lance\\appdata\\local\\programs\\python\\python310\\lib\\site-packages (from tensorboard<2.11,>=2.10->tensorflow==2.10) (2.31.0)\n",
      "Requirement already satisfied: markdown>=2.6.8 in c:\\users\\lance\\appdata\\local\\programs\\python\\python310\\lib\\site-packages (from tensorboard<2.11,>=2.10->tensorflow==2.10) (3.5.2)\n",
      "Requirement already satisfied: tensorboard-data-server<0.7.0,>=0.6.0 in c:\\users\\lance\\appdata\\local\\programs\\python\\python310\\lib\\site-packages (from tensorboard<2.11,>=2.10->tensorflow==2.10) (0.6.1)\n",
      "Requirement already satisfied: rsa<5,>=3.1.4 in c:\\users\\lance\\appdata\\local\\programs\\python\\python310\\lib\\site-packages (from google-auth<3,>=1.6.3->tensorboard<2.11,>=2.10->tensorflow==2.10) (4.9)\n",
      "Requirement already satisfied: cachetools<6.0,>=2.0.0 in c:\\users\\lance\\appdata\\local\\programs\\python\\python310\\lib\\site-packages (from google-auth<3,>=1.6.3->tensorboard<2.11,>=2.10->tensorflow==2.10) (5.3.2)\n",
      "Requirement already satisfied: pyasn1-modules>=0.2.1 in c:\\users\\lance\\appdata\\local\\programs\\python\\python310\\lib\\site-packages (from google-auth<3,>=1.6.3->tensorboard<2.11,>=2.10->tensorflow==2.10) (0.3.0)\n",
      "Requirement already satisfied: requests-oauthlib>=0.7.0 in c:\\users\\lance\\appdata\\local\\programs\\python\\python310\\lib\\site-packages (from google-auth-oauthlib<0.5,>=0.4.1->tensorboard<2.11,>=2.10->tensorflow==2.10) (1.3.1)\n",
      "Requirement already satisfied: pyasn1<0.6.0,>=0.4.6 in c:\\users\\lance\\appdata\\local\\programs\\python\\python310\\lib\\site-packages (from pyasn1-modules>=0.2.1->google-auth<3,>=1.6.3->tensorboard<2.11,>=2.10->tensorflow==2.10) (0.5.1)\n",
      "Requirement already satisfied: certifi>=2017.4.17 in c:\\users\\lance\\appdata\\local\\programs\\python\\python310\\lib\\site-packages (from requests<3,>=2.21.0->tensorboard<2.11,>=2.10->tensorflow==2.10) (2024.2.2)\n",
      "Requirement already satisfied: idna<4,>=2.5 in c:\\users\\lance\\appdata\\local\\programs\\python\\python310\\lib\\site-packages (from requests<3,>=2.21.0->tensorboard<2.11,>=2.10->tensorflow==2.10) (3.6)\n",
      "Requirement already satisfied: urllib3<3,>=1.21.1 in c:\\users\\lance\\appdata\\local\\programs\\python\\python310\\lib\\site-packages (from requests<3,>=2.21.0->tensorboard<2.11,>=2.10->tensorflow==2.10) (2.2.0)\n",
      "Requirement already satisfied: charset-normalizer<4,>=2 in c:\\users\\lance\\appdata\\local\\programs\\python\\python310\\lib\\site-packages (from requests<3,>=2.21.0->tensorboard<2.11,>=2.10->tensorflow==2.10) (3.3.2)\n",
      "Requirement already satisfied: oauthlib>=3.0.0 in c:\\users\\lance\\appdata\\local\\programs\\python\\python310\\lib\\site-packages (from requests-oauthlib>=0.7.0->google-auth-oauthlib<0.5,>=0.4.1->tensorboard<2.11,>=2.10->tensorflow==2.10) (3.2.2)\n",
      "Requirement already satisfied: MarkupSafe>=2.1.1 in c:\\users\\lance\\appdata\\local\\programs\\python\\python310\\lib\\site-packages (from werkzeug>=1.0.1->tensorboard<2.11,>=2.10->tensorflow==2.10) (2.1.5)\n",
      "Note: you may need to restart the kernel to use updated packages.\n"
     ]
    },
    {
     "name": "stderr",
     "output_type": "stream",
     "text": [
      "WARNING: You are using pip version 21.2.3; however, version 24.0 is available.\n",
      "You should consider upgrading via the 'c:\\Users\\lance\\AppData\\Local\\Programs\\Python\\Python310\\python.exe -m pip install --upgrade pip' command.\n"
     ]
    },
    {
     "name": "stdout",
     "output_type": "stream",
     "text": [
      "Requirement already satisfied: tensorflow-gpu==2.10 in c:\\users\\lance\\appdata\\local\\programs\\python\\python310\\lib\\site-packages (2.10.0)\n",
      "Requirement already satisfied: tensorflow-io-gcs-filesystem>=0.23.1 in c:\\users\\lance\\appdata\\local\\programs\\python\\python310\\lib\\site-packages (from tensorflow-gpu==2.10) (0.31.0)\n",
      "Requirement already satisfied: setuptools in c:\\users\\lance\\appdata\\local\\programs\\python\\python310\\lib\\site-packages (from tensorflow-gpu==2.10) (57.4.0)\n",
      "Requirement already satisfied: six>=1.12.0 in c:\\users\\lance\\appdata\\local\\programs\\python\\python310\\lib\\site-packages (from tensorflow-gpu==2.10) (1.16.0)\n",
      "Requirement already satisfied: tensorboard<2.11,>=2.10 in c:\\users\\lance\\appdata\\local\\programs\\python\\python310\\lib\\site-packages (from tensorflow-gpu==2.10) (2.10.1)\n",
      "Requirement already satisfied: opt-einsum>=2.3.2 in c:\\users\\lance\\appdata\\local\\programs\\python\\python310\\lib\\site-packages (from tensorflow-gpu==2.10) (3.3.0)\n",
      "Requirement already satisfied: gast<=0.4.0,>=0.2.1 in c:\\users\\lance\\appdata\\local\\programs\\python\\python310\\lib\\site-packages (from tensorflow-gpu==2.10) (0.4.0)\n",
      "Requirement already satisfied: keras-preprocessing>=1.1.1 in c:\\users\\lance\\appdata\\local\\programs\\python\\python310\\lib\\site-packages (from tensorflow-gpu==2.10) (1.1.2)\n",
      "Requirement already satisfied: absl-py>=1.0.0 in c:\\users\\lance\\appdata\\local\\programs\\python\\python310\\lib\\site-packages (from tensorflow-gpu==2.10) (2.1.0)\n",
      "Requirement already satisfied: libclang>=13.0.0 in c:\\users\\lance\\appdata\\local\\programs\\python\\python310\\lib\\site-packages (from tensorflow-gpu==2.10) (16.0.6)\n",
      "Requirement already satisfied: typing-extensions>=3.6.6 in c:\\users\\lance\\appdata\\local\\programs\\python\\python310\\lib\\site-packages (from tensorflow-gpu==2.10) (4.9.0)\n",
      "Requirement already satisfied: keras<2.11,>=2.10.0 in c:\\users\\lance\\appdata\\local\\programs\\python\\python310\\lib\\site-packages (from tensorflow-gpu==2.10) (2.10.0)\n",
      "Requirement already satisfied: tensorflow-estimator<2.11,>=2.10.0 in c:\\users\\lance\\appdata\\local\\programs\\python\\python310\\lib\\site-packages (from tensorflow-gpu==2.10) (2.10.0)\n",
      "Requirement already satisfied: google-pasta>=0.1.1 in c:\\users\\lance\\appdata\\local\\programs\\python\\python310\\lib\\site-packages (from tensorflow-gpu==2.10) (0.2.0)\n",
      "Requirement already satisfied: wrapt>=1.11.0 in c:\\users\\lance\\appdata\\local\\programs\\python\\python310\\lib\\site-packages (from tensorflow-gpu==2.10) (1.16.0)\n",
      "Requirement already satisfied: flatbuffers>=2.0 in c:\\users\\lance\\appdata\\local\\programs\\python\\python310\\lib\\site-packages (from tensorflow-gpu==2.10) (23.5.26)\n",
      "Requirement already satisfied: grpcio<2.0,>=1.24.3 in c:\\users\\lance\\appdata\\local\\programs\\python\\python310\\lib\\site-packages (from tensorflow-gpu==2.10) (1.60.1)\n",
      "Requirement already satisfied: numpy>=1.20 in c:\\users\\lance\\appdata\\local\\programs\\python\\python310\\lib\\site-packages (from tensorflow-gpu==2.10) (1.26.3)\n",
      "Requirement already satisfied: packaging in c:\\users\\lance\\appdata\\local\\programs\\python\\python310\\lib\\site-packages (from tensorflow-gpu==2.10) (23.2)\n",
      "Requirement already satisfied: protobuf<3.20,>=3.9.2 in c:\\users\\lance\\appdata\\local\\programs\\python\\python310\\lib\\site-packages (from tensorflow-gpu==2.10) (3.19.6)\n",
      "Requirement already satisfied: h5py>=2.9.0 in c:\\users\\lance\\appdata\\local\\programs\\python\\python310\\lib\\site-packages (from tensorflow-gpu==2.10) (3.10.0)\n",
      "Requirement already satisfied: astunparse>=1.6.0 in c:\\users\\lance\\appdata\\local\\programs\\python\\python310\\lib\\site-packages (from tensorflow-gpu==2.10) (1.6.3)\n",
      "Requirement already satisfied: termcolor>=1.1.0 in c:\\users\\lance\\appdata\\local\\programs\\python\\python310\\lib\\site-packages (from tensorflow-gpu==2.10) (2.4.0)\n",
      "Requirement already satisfied: wheel<1.0,>=0.23.0 in c:\\users\\lance\\appdata\\local\\programs\\python\\python310\\lib\\site-packages (from astunparse>=1.6.0->tensorflow-gpu==2.10) (0.42.0)\n",
      "Requirement already satisfied: google-auth-oauthlib<0.5,>=0.4.1 in c:\\users\\lance\\appdata\\local\\programs\\python\\python310\\lib\\site-packages (from tensorboard<2.11,>=2.10->tensorflow-gpu==2.10) (0.4.6)\n",
      "Requirement already satisfied: requests<3,>=2.21.0 in c:\\users\\lance\\appdata\\local\\programs\\python\\python310\\lib\\site-packages (from tensorboard<2.11,>=2.10->tensorflow-gpu==2.10) (2.31.0)\n",
      "Requirement already satisfied: tensorboard-plugin-wit>=1.6.0 in c:\\users\\lance\\appdata\\local\\programs\\python\\python310\\lib\\site-packages (from tensorboard<2.11,>=2.10->tensorflow-gpu==2.10) (1.8.1)\n",
      "Requirement already satisfied: werkzeug>=1.0.1 in c:\\users\\lance\\appdata\\local\\programs\\python\\python310\\lib\\site-packages (from tensorboard<2.11,>=2.10->tensorflow-gpu==2.10) (3.0.1)\n",
      "Requirement already satisfied: google-auth<3,>=1.6.3 in c:\\users\\lance\\appdata\\local\\programs\\python\\python310\\lib\\site-packages (from tensorboard<2.11,>=2.10->tensorflow-gpu==2.10) (2.27.0)\n",
      "Requirement already satisfied: tensorboard-data-server<0.7.0,>=0.6.0 in c:\\users\\lance\\appdata\\local\\programs\\python\\python310\\lib\\site-packages (from tensorboard<2.11,>=2.10->tensorflow-gpu==2.10) (0.6.1)\n",
      "Requirement already satisfied: markdown>=2.6.8 in c:\\users\\lance\\appdata\\local\\programs\\python\\python310\\lib\\site-packages (from tensorboard<2.11,>=2.10->tensorflow-gpu==2.10) (3.5.2)\n",
      "Requirement already satisfied: cachetools<6.0,>=2.0.0 in c:\\users\\lance\\appdata\\local\\programs\\python\\python310\\lib\\site-packages (from google-auth<3,>=1.6.3->tensorboard<2.11,>=2.10->tensorflow-gpu==2.10) (5.3.2)\n",
      "Requirement already satisfied: pyasn1-modules>=0.2.1 in c:\\users\\lance\\appdata\\local\\programs\\python\\python310\\lib\\site-packages (from google-auth<3,>=1.6.3->tensorboard<2.11,>=2.10->tensorflow-gpu==2.10) (0.3.0)\n",
      "Requirement already satisfied: rsa<5,>=3.1.4 in c:\\users\\lance\\appdata\\local\\programs\\python\\python310\\lib\\site-packages (from google-auth<3,>=1.6.3->tensorboard<2.11,>=2.10->tensorflow-gpu==2.10) (4.9)\n",
      "Requirement already satisfied: requests-oauthlib>=0.7.0 in c:\\users\\lance\\appdata\\local\\programs\\python\\python310\\lib\\site-packages (from google-auth-oauthlib<0.5,>=0.4.1->tensorboard<2.11,>=2.10->tensorflow-gpu==2.10) (1.3.1)\n",
      "Requirement already satisfied: pyasn1<0.6.0,>=0.4.6 in c:\\users\\lance\\appdata\\local\\programs\\python\\python310\\lib\\site-packages (from pyasn1-modules>=0.2.1->google-auth<3,>=1.6.3->tensorboard<2.11,>=2.10->tensorflow-gpu==2.10) (0.5.1)\n",
      "Requirement already satisfied: certifi>=2017.4.17 in c:\\users\\lance\\appdata\\local\\programs\\python\\python310\\lib\\site-packages (from requests<3,>=2.21.0->tensorboard<2.11,>=2.10->tensorflow-gpu==2.10) (2024.2.2)\n",
      "Requirement already satisfied: charset-normalizer<4,>=2 in c:\\users\\lance\\appdata\\local\\programs\\python\\python310\\lib\\site-packages (from requests<3,>=2.21.0->tensorboard<2.11,>=2.10->tensorflow-gpu==2.10) (3.3.2)\n",
      "Requirement already satisfied: idna<4,>=2.5 in c:\\users\\lance\\appdata\\local\\programs\\python\\python310\\lib\\site-packages (from requests<3,>=2.21.0->tensorboard<2.11,>=2.10->tensorflow-gpu==2.10) (3.6)\n",
      "Requirement already satisfied: urllib3<3,>=1.21.1 in c:\\users\\lance\\appdata\\local\\programs\\python\\python310\\lib\\site-packages (from requests<3,>=2.21.0->tensorboard<2.11,>=2.10->tensorflow-gpu==2.10) (2.2.0)\n",
      "Requirement already satisfied: oauthlib>=3.0.0 in c:\\users\\lance\\appdata\\local\\programs\\python\\python310\\lib\\site-packages (from requests-oauthlib>=0.7.0->google-auth-oauthlib<0.5,>=0.4.1->tensorboard<2.11,>=2.10->tensorflow-gpu==2.10) (3.2.2)\n",
      "Requirement already satisfied: MarkupSafe>=2.1.1 in c:\\users\\lance\\appdata\\local\\programs\\python\\python310\\lib\\site-packages (from werkzeug>=1.0.1->tensorboard<2.11,>=2.10->tensorflow-gpu==2.10) (2.1.5)\n",
      "Note: you may need to restart the kernel to use updated packages.\n"
     ]
    },
    {
     "name": "stderr",
     "output_type": "stream",
     "text": [
      "WARNING: You are using pip version 21.2.3; however, version 24.0 is available.\n",
      "You should consider upgrading via the 'c:\\Users\\lance\\AppData\\Local\\Programs\\Python\\Python310\\python.exe -m pip install --upgrade pip' command.\n"
     ]
    },
    {
     "name": "stdout",
     "output_type": "stream",
     "text": [
      "Requirement already satisfied: tensorflow-hub in c:\\users\\lance\\appdata\\local\\programs\\python\\python310\\lib\\site-packages (0.16.1)\n",
      "Requirement already satisfied: protobuf>=3.19.6 in c:\\users\\lance\\appdata\\local\\programs\\python\\python310\\lib\\site-packages (from tensorflow-hub) (3.19.6)\n",
      "Requirement already satisfied: tf-keras>=2.14.1 in c:\\users\\lance\\appdata\\local\\programs\\python\\python310\\lib\\site-packages (from tensorflow-hub) (2.15.0)\n",
      "Requirement already satisfied: numpy>=1.12.0 in c:\\users\\lance\\appdata\\local\\programs\\python\\python310\\lib\\site-packages (from tensorflow-hub) (1.26.3)\n",
      "Note: you may need to restart the kernel to use updated packages.\n"
     ]
    },
    {
     "name": "stderr",
     "output_type": "stream",
     "text": [
      "WARNING: You are using pip version 21.2.3; however, version 24.0 is available.\n",
      "You should consider upgrading via the 'c:\\Users\\lance\\AppData\\Local\\Programs\\Python\\Python310\\python.exe -m pip install --upgrade pip' command.\n"
     ]
    },
    {
     "name": "stdout",
     "output_type": "stream",
     "text": [
      "Note: you may need to restart the kernel to use updated packages.Requirement already satisfied: opencv-python in c:\\users\\lance\\appdata\\local\\programs\\python\\python310\\lib\\site-packages (4.9.0.80)\n",
      "Requirement already satisfied: numpy>=1.19.3 in c:\\users\\lance\\appdata\\local\\programs\\python\\python310\\lib\\site-packages (from opencv-python) (1.26.3)\n",
      "\n"
     ]
    },
    {
     "name": "stderr",
     "output_type": "stream",
     "text": [
      "WARNING: You are using pip version 21.2.3; however, version 24.0 is available.\n",
      "You should consider upgrading via the 'c:\\Users\\lance\\AppData\\Local\\Programs\\Python\\Python310\\python.exe -m pip install --upgrade pip' command.\n"
     ]
    },
    {
     "name": "stdout",
     "output_type": "stream",
     "text": [
      "Requirement already satisfied: matplotlib in c:\\users\\lance\\appdata\\local\\programs\\python\\python310\\lib\\site-packages (3.8.2)\n",
      "Requirement already satisfied: contourpy>=1.0.1 in c:\\users\\lance\\appdata\\local\\programs\\python\\python310\\lib\\site-packages (from matplotlib) (1.2.0)\n",
      "Requirement already satisfied: cycler>=0.10 in c:\\users\\lance\\appdata\\local\\programs\\python\\python310\\lib\\site-packages (from matplotlib) (0.12.1)\n",
      "Requirement already satisfied: kiwisolver>=1.3.1 in c:\\users\\lance\\appdata\\local\\programs\\python\\python310\\lib\\site-packages (from matplotlib) (1.4.5)\n",
      "Requirement already satisfied: fonttools>=4.22.0 in c:\\users\\lance\\appdata\\local\\programs\\python\\python310\\lib\\site-packages (from matplotlib) (4.47.2)\n",
      "Requirement already satisfied: pyparsing>=2.3.1 in c:\\users\\lance\\appdata\\local\\programs\\python\\python310\\lib\\site-packages (from matplotlib) (3.1.1)\n",
      "Requirement already satisfied: pillow>=8 in c:\\users\\lance\\appdata\\local\\programs\\python\\python310\\lib\\site-packages (from matplotlib) (10.2.0)\n",
      "Requirement already satisfied: python-dateutil>=2.7 in c:\\users\\lance\\appdata\\local\\programs\\python\\python310\\lib\\site-packages (from matplotlib) (2.8.2)\n",
      "Requirement already satisfied: numpy<2,>=1.21 in c:\\users\\lance\\appdata\\local\\programs\\python\\python310\\lib\\site-packages (from matplotlib) (1.26.3)\n",
      "Requirement already satisfied: packaging>=20.0 in c:\\users\\lance\\appdata\\local\\programs\\python\\python310\\lib\\site-packages (from matplotlib) (23.2)\n",
      "Requirement already satisfied: six>=1.5 in c:\\users\\lance\\appdata\\local\\programs\\python\\python310\\lib\\site-packages (from python-dateutil>=2.7->matplotlib) (1.16.0)\n",
      "Note: you may need to restart the kernel to use updated packages.\n"
     ]
    },
    {
     "name": "stderr",
     "output_type": "stream",
     "text": [
      "WARNING: You are using pip version 21.2.3; however, version 24.0 is available.\n",
      "You should consider upgrading via the 'c:\\Users\\lance\\AppData\\Local\\Programs\\Python\\Python310\\python.exe -m pip install --upgrade pip' command.\n"
     ]
    }
   ],
   "source": [
    "%pip install tensorflow==2.10\n",
    "%pip install tensorflow-gpu==2.10\n",
    "%pip install tensorflow-hub\n",
    "%pip install opencv-python\n",
    "%pip install matplotlib"
   ]
  },
  {
   "cell_type": "markdown",
   "metadata": {},
   "source": [
    "# Import Dependencies"
   ]
  },
  {
   "cell_type": "code",
   "execution_count": 3,
   "metadata": {},
   "outputs": [],
   "source": [
    "import tensorflow as tf\n",
    "import tensorflow_hub as hub\n",
    "import cv2\n",
    "from matplotlib import pyplot as plt\n",
    "import numpy as np\n",
    "import os"
   ]
  },
  {
   "cell_type": "code",
   "execution_count": 4,
   "metadata": {},
   "outputs": [
    {
     "name": "stdout",
     "output_type": "stream",
     "text": [
      "[]\n"
     ]
    }
   ],
   "source": [
    "# Optional if you are using a GPU\n",
    "gpus = tf.config.experimental.list_physical_devices('GPU')\n",
    "print(gpus)\n",
    "for gpu in gpus:\n",
    "    tf.config.experimental.set_memory_growth(gpu, True)"
   ]
  },
  {
   "cell_type": "markdown",
   "metadata": {
    "jp-MarkdownHeadingCollapsed": true
   },
   "source": [
    "# Load Movenet Model"
   ]
  },
  {
   "cell_type": "code",
   "execution_count": 5,
   "metadata": {},
   "outputs": [],
   "source": [
    "model = hub.load('https://tfhub.dev/google/movenet/multipose/lightning/1')\n",
    "movenet = model.signatures['serving_default']"
   ]
  },
  {
   "cell_type": "markdown",
   "metadata": {
    "jp-MarkdownHeadingCollapsed": true
   },
   "source": [
    "# Make Detections"
   ]
  },
  {
   "cell_type": "code",
   "execution_count": 6,
   "metadata": {},
   "outputs": [],
   "source": [
    "# Fucntion that draws points of the joints on the screen\n",
    "def draw_keypoints(frame, keypoints, confidence_threshold):\n",
    "    y, x, c = frame.shape\n",
    "    shaped = np.squeeze(np.multiply(keypoints, [y,x,1]))\n",
    "    \n",
    "    for kp in shaped:\n",
    "        ky, kx, kp_conf = kp\n",
    "        if kp_conf > confidence_threshold:\n",
    "            cv2.circle(frame, (int(kx), int(ky)), 6, (0,255,0), -1)"
   ]
  },
  {
   "cell_type": "code",
   "execution_count": 7,
   "metadata": {},
   "outputs": [],
   "source": [
    "# object that mapes the connections between each point drawn on the screen\n",
    "EDGES = {\n",
    "    (0, 1): 'm',\n",
    "    (0, 2): 'c',\n",
    "    (1, 3): 'm',\n",
    "    (2, 4): 'c',\n",
    "    (0, 5): 'm',\n",
    "    (0, 6): 'c',\n",
    "    (5, 7): 'm',\n",
    "    (7, 9): 'm',\n",
    "    (6, 8): 'c',\n",
    "    (8, 10): 'c',\n",
    "    (5, 6): 'y',\n",
    "    (5, 11): 'm',\n",
    "    (6, 12): 'c',\n",
    "    (11, 12): 'y',\n",
    "    (11, 13): 'm',\n",
    "    (13, 15): 'm',\n",
    "    (12, 14): 'c',\n",
    "    (14, 16): 'c'\n",
    "}"
   ]
  },
  {
   "cell_type": "code",
   "execution_count": 8,
   "metadata": {},
   "outputs": [],
   "source": [
    "# Function that draws the edges connecting the points drwan by draw_keypoints fucntion\n",
    "def draw_connections(frame, keypoints, edges, confidence_threshold):\n",
    "    y, x, c = frame.shape\n",
    "    shaped = np.squeeze(np.multiply(keypoints, [y,x,1]))\n",
    "    \n",
    "    for edge, color in edges.items():\n",
    "        p1, p2 = edge\n",
    "        y1, x1, c1 = shaped[p1]\n",
    "        y2, x2, c2 = shaped[p2]\n",
    "        \n",
    "        if (c1 > confidence_threshold) & (c2 > confidence_threshold):      \n",
    "            cv2.line(frame, (int(x1), int(y1)), (int(x2), int(y2)), (0,0,255), 4)"
   ]
  },
  {
   "cell_type": "code",
   "execution_count": 9,
   "metadata": {},
   "outputs": [],
   "source": [
    "# Function to loop through each person detected and render with maximum number 6 persons\n",
    "def loop_through_people(frame, keypoints_with_scores, edges, confidence_threshold):\n",
    "    for person in keypoints_with_scores:\n",
    "        draw_connections(frame, person, edges, confidence_threshold)\n",
    "        draw_keypoints(frame, person, confidence_threshold)"
   ]
  },
  {
   "cell_type": "markdown",
   "metadata": {
    "jp-MarkdownHeadingCollapsed": true
   },
   "source": [
    "# Open Camera and Render Skeleton"
   ]
  },
  {
   "cell_type": "code",
   "execution_count": null,
   "metadata": {},
   "outputs": [],
   "source": [
    "cap = cv2.VideoCapture(0)\n",
    "while cap.isOpened():\n",
    "    ret, frame = cap.read()\n",
    "    \n",
    "    # Resize image\n",
    "    img = frame.copy()\n",
    "    img = tf.image.resize_with_pad(tf.expand_dims(img, axis=0),192,256)\n",
    "    input_img = tf.cast(img, dtype=tf.int32)\n",
    "    \n",
    "    # Detection section\n",
    "    results = movenet(input_img)\n",
    "    keypoints_with_scores = results['output_0'].numpy()[:,:,:51].reshape((6,17,3))\n",
    "    \n",
    "    # Render keypoints \n",
    "    loop_through_people(frame, keypoints_with_scores, EDGES, 0.35)\n",
    "    \n",
    "    cv2.imshow('Human Gait Identification', frame)\n",
    "    \n",
    "    if cv2.waitKey(10) & 0xFF== 27:\n",
    "        break\n",
    "cap.release()\n",
    "cv2.destroyAllWindows()"
   ]
  },
  {
   "cell_type": "markdown",
   "metadata": {
    "jp-MarkdownHeadingCollapsed": true
   },
   "source": [
    "# Folder Setup for Data Collection"
   ]
  },
  {
   "cell_type": "code",
   "execution_count": 10,
   "metadata": {},
   "outputs": [],
   "source": [
    "# Path for exported data, numpy arrays\n",
    "DATA_PATH = os.path.join('Custom_Gait_Dataset') \n",
    "\n",
    "# Persons that we try to detect\n",
    "persons = np.array(['Lance','Seif','Omar'])\n",
    "\n",
    "#Very person with 4 different view\n",
    "views = np.array(['Front','Back','Left','Right'])\n",
    "\n",
    "# 10 videos worth of data\n",
    "no_sequences = 10\n",
    "\n",
    "# Videos are going to be 30 frames in length\n",
    "sequence_length = 90"
   ]
  },
  {
   "cell_type": "code",
   "execution_count": null,
   "metadata": {},
   "outputs": [],
   "source": [
    "for person in persons:\n",
    "    for view in views:\n",
    "        for sequence in range(no_sequences):\n",
    "            try: \n",
    "                os.makedirs(os.path.join(DATA_PATH, person, view, str(sequence)))\n",
    "            except:\n",
    "                pass"
   ]
  },
  {
   "cell_type": "markdown",
   "metadata": {},
   "source": [
    "# Dataset Collection"
   ]
  },
  {
   "cell_type": "code",
   "execution_count": null,
   "metadata": {},
   "outputs": [],
   "source": [
    "cap = cv2.VideoCapture(0)\n",
    "for person in persons:\n",
    "    for view in views:\n",
    "        for sequence in range(no_sequences):\n",
    "            for frame_num in range(sequence_length):\n",
    "\n",
    "                ret, frame = cap.read()\n",
    "                    \n",
    "                # Resize image\n",
    "                image = frame.copy()\n",
    "                image = tf.image.resize_with_pad(tf.expand_dims(image, axis=0),192,256)\n",
    "                input_img = tf.cast(image, dtype=tf.int32)\n",
    "                    \n",
    "                # Detection section\n",
    "                results = movenet(input_img)\n",
    "                extracted_keypoints = results['output_0'].numpy()[:,:,:51].reshape((6,17,3))\n",
    "                    \n",
    "                # Render keypoints \n",
    "                loop_through_people(frame, extracted_keypoints, EDGES, 0.35)\n",
    "\n",
    "                if frame_num == 0: \n",
    "                    cv2.putText(frame, 'Starting {} Collection'.format(person), (120,200), \n",
    "                            cv2.FONT_HERSHEY_SIMPLEX, 1, (0,255, 0), 1, cv2.LINE_AA)\n",
    "                    cv2.putText(frame, 'Collecting frames for {} with {} view, Video Number {}'.format(person, view, sequence), (15,12), \n",
    "                            cv2.FONT_HERSHEY_SIMPLEX, 0.5, (0, 0, 255), 1, cv2.LINE_AA)\n",
    "                    cv2.waitKey(2000)\n",
    "                else: \n",
    "                    cv2.putText(frame, 'Capturing'.format(person), (120,200), \n",
    "                            cv2.FONT_HERSHEY_SIMPLEX, 1, (0,255, 0), 1, cv2.LINE_AA)\n",
    "                    cv2.putText(frame, 'Collecting frames for {} with {} view, Video Number {}'.format(person, view, sequence), (15,12), \n",
    "                            cv2.FONT_HERSHEY_SIMPLEX, 0.5, (0, 0, 255), 1, cv2.LINE_AA)\n",
    "                        \n",
    "                # NEW Export keypoints\n",
    "                keypoints = extracted_keypoints\n",
    "                npy_path = os.path.join(DATA_PATH, person, view, str(sequence), str(frame_num))\n",
    "                np.save(npy_path, keypoints)\n",
    "                    \n",
    "                cv2.imshow('Human Gait Identification', frame)\n",
    "        \n",
    "                if cv2.waitKey(10) & 0xFF== 27:\n",
    "                    break\n",
    "cap.release()\n",
    "cv2.destroyAllWindows()"
   ]
  }
 ],
 "metadata": {
  "kernelspec": {
   "display_name": "Python 3 (ipykernel)",
   "language": "python",
   "name": "python3"
  },
  "language_info": {
   "codemirror_mode": {
    "name": "ipython",
    "version": 3
   },
   "file_extension": ".py",
   "mimetype": "text/x-python",
   "name": "python",
   "nbconvert_exporter": "python",
   "pygments_lexer": "ipython3",
   "version": "3.10.0"
  }
 },
 "nbformat": 4,
 "nbformat_minor": 4
}
